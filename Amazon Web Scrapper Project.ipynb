{
 "cells": [
  {
   "cell_type": "code",
   "execution_count": 1,
   "id": "e80f620f-6afd-4e11-b455-8ab08d3e5848",
   "metadata": {},
   "outputs": [],
   "source": [
    "# Import libraries\n",
    "\n",
    "from bs4 import BeautifulSoup\n",
    "import requests\n",
    "import time\n",
    "import datetime\n",
    "\n",
    "import smtplib"
   ]
  },
  {
   "cell_type": "code",
   "execution_count": 2,
   "id": "e013d212-2cee-42d9-a190-069930f90a41",
   "metadata": {},
   "outputs": [
    {
     "name": "stdout",
     "output_type": "stream",
     "text": [
      "\n",
      "                    Data Minded, Funny MIS Data Systems Business Analyst T-Shirt\n",
      "                    \n",
      "                    $14.98\n",
      "                   \n"
     ]
    }
   ],
   "source": [
    "# Connecting to website\n",
    "\n",
    "URL = 'https://www.amazon.com/Data-MIS-Systems-Business-Analyst/dp/B0DKNCC7YQ/ref=sr_1_6?crid=1QEILCP0NKV42&dib=eyJ2IjoiMSJ9.xXYwngSGLSf5iP-gwAbl3ieSkEPabCwEYK_VdkyN1ctF_WjMTQy_iyGXhGhRENXeL0bbRkJ5joiDluqOTkvR7eLcf1Djz2FOK9TkPjiUn-mEeUxGfMd2F6aQ_schbbbTW-nVtzJAHzO2x4P4DxvtTkqGkbsg1Xr33XaxW3EouQqOBWxAJ-6uiqtuj8P74g9XvZO8-eQLYfOlx7Vf6LX_xHUuGzyGdZ_aSiEvcLs_XfA.4Mr8O5h5eGWx_ww5ASK7GL8V71W1kXvTcN9AzRjHDRQ&dib_tag=se&keywords=funny+data+systems+business+analyst&qid=1731445048&sprefix=funny+data+systems+business+analyst%2Caps%2C465&sr=8-6'\n",
    "\n",
    "# headers can be accessed here (http://httpbin.org/get)\n",
    "headers = {\"User-Agent\": \"Mozilla/5.0 (Windows NT 10.0; Win64; x64) AppleWebKit/537.36 (KHTML, like Gecko) Chrome/129.0.0.0 Safari/537.36\",  \"Accept-Encoding\":\"gzip, deflate\", \"Accept\":\"text/html,application/xhtml+xml,application/xml;q=0.9,*/*;q=0.8\", \"DNT\":\"1\",\"Connection\":\"close\", \"Upgrade-Insecure-Requests\":\"1\"}\n",
    "\n",
    "page = requests.get(URL, headers = headers)\n",
    "\n",
    "soup1 = BeautifulSoup(page.content, \"html.parser\")\n",
    "\n",
    "soup2 = BeautifulSoup(soup1.prettify(), \"html.parser\")\n",
    "\n",
    "\n",
    "title = soup2.find(id = \"productTitle\").get_text()\n",
    "# title = soup2.select_one(\"#productTitle\").get_text()\n",
    "\n",
    "price = soup2.find('span', class_='aok-offscreen').get_text()\n",
    "# price = soup2.select_one(\"#priceblock_ourprice\")\n",
    "# soup2.find(\"#priceblock_ourprice\")\n",
    "print(title, price)"
   ]
  },
  {
   "cell_type": "code",
   "execution_count": 5,
   "id": "938ac467-934b-486e-955a-8a3dba6c201c",
   "metadata": {},
   "outputs": [
    {
     "name": "stdout",
     "output_type": "stream",
     "text": [
      "Data Minded, Funny MIS Data Systems Business Analyst T-Shirt\n",
      "14.98\n"
     ]
    }
   ],
   "source": [
    "title = title.strip()\n",
    "price = price.strip()[1:]\n",
    "\n",
    "print(title)\n",
    "print(price)"
   ]
  },
  {
   "cell_type": "code",
   "execution_count": 19,
   "id": "0dd67a01-58c5-46b8-a054-81e465ee4fe5",
   "metadata": {},
   "outputs": [
    {
     "name": "stdout",
     "output_type": "stream",
     "text": [
      "2024-11-17\n"
     ]
    }
   ],
   "source": [
    "import datetime\n",
    "\n",
    "today = datetime.date.today()\n",
    "\n",
    "print(today)"
   ]
  },
  {
   "cell_type": "code",
   "execution_count": 27,
   "id": "09a49de3-5ebd-4d05-8c7f-49c11e1ce15d",
   "metadata": {},
   "outputs": [],
   "source": [
    "# Creating a csv and adding the csv \n",
    "\n",
    "import csv\n",
    "\n",
    "header = [\"Title\", \"Price\", \"Date\"]\n",
    "data = [title, price, today]\n",
    "\n",
    "# with open(\"AmazonWebScaperDataset.csv\", \"w\", newline = \"\", encoding = \"UTF8\") as f:\n",
    "#     writer = csv.writer(f)\n",
    "#     writer.writerow(header)\n",
    "#     writer.writerow(data)"
   ]
  },
  {
   "cell_type": "code",
   "execution_count": 43,
   "id": "267edbd8-8fdd-497f-a36b-89ce7a90724b",
   "metadata": {},
   "outputs": [
    {
     "data": {
      "text/html": [
       "<div>\n",
       "<style scoped>\n",
       "    .dataframe tbody tr th:only-of-type {\n",
       "        vertical-align: middle;\n",
       "    }\n",
       "\n",
       "    .dataframe tbody tr th {\n",
       "        vertical-align: top;\n",
       "    }\n",
       "\n",
       "    .dataframe thead th {\n",
       "        text-align: right;\n",
       "    }\n",
       "</style>\n",
       "<table border=\"1\" class=\"dataframe\">\n",
       "  <thead>\n",
       "    <tr style=\"text-align: right;\">\n",
       "      <th></th>\n",
       "      <th>Title</th>\n",
       "      <th>Price</th>\n",
       "      <th>Date</th>\n",
       "    </tr>\n",
       "  </thead>\n",
       "  <tbody>\n",
       "    <tr>\n",
       "      <th>0</th>\n",
       "      <td>Data Minded, Funny MIS Data Systems Business A...</td>\n",
       "      <td>14.98</td>\n",
       "      <td>2024-11-17</td>\n",
       "    </tr>\n",
       "    <tr>\n",
       "      <th>1</th>\n",
       "      <td>Data Minded, Funny MIS Data Systems Business A...</td>\n",
       "      <td>14.98</td>\n",
       "      <td>2024-11-17</td>\n",
       "    </tr>\n",
       "    <tr>\n",
       "      <th>2</th>\n",
       "      <td>Data Minded, Funny MIS Data Systems Business A...</td>\n",
       "      <td>14.98</td>\n",
       "      <td>2024-11-17</td>\n",
       "    </tr>\n",
       "    <tr>\n",
       "      <th>3</th>\n",
       "      <td>Data Minded, Funny MIS Data Systems Business A...</td>\n",
       "      <td>14.98</td>\n",
       "      <td>2024-11-17</td>\n",
       "    </tr>\n",
       "    <tr>\n",
       "      <th>4</th>\n",
       "      <td>Data Minded, Funny MIS Data Systems Business A...</td>\n",
       "      <td>14.98</td>\n",
       "      <td>2024-11-17</td>\n",
       "    </tr>\n",
       "    <tr>\n",
       "      <th>5</th>\n",
       "      <td>Data Minded, Funny MIS Data Systems Business A...</td>\n",
       "      <td>14.98</td>\n",
       "      <td>2024-11-17</td>\n",
       "    </tr>\n",
       "  </tbody>\n",
       "</table>\n",
       "</div>"
      ],
      "text/plain": [
       "                                               Title  Price        Date\n",
       "0  Data Minded, Funny MIS Data Systems Business A...  14.98  2024-11-17\n",
       "1  Data Minded, Funny MIS Data Systems Business A...  14.98  2024-11-17\n",
       "2  Data Minded, Funny MIS Data Systems Business A...  14.98  2024-11-17\n",
       "3  Data Minded, Funny MIS Data Systems Business A...  14.98  2024-11-17\n",
       "4  Data Minded, Funny MIS Data Systems Business A...  14.98  2024-11-17\n",
       "5  Data Minded, Funny MIS Data Systems Business A...  14.98  2024-11-17"
      ]
     },
     "execution_count": 43,
     "metadata": {},
     "output_type": "execute_result"
    }
   ],
   "source": [
    "import pandas as pd\n",
    "\n",
    "df = pd.read_csv(r\"C:\\Users\\Misha\\Documents\\5. Python\\AmazonWebScaperDataset.csv\")\n",
    "\n",
    "df"
   ]
  },
  {
   "cell_type": "code",
   "execution_count": 41,
   "id": "a7416966-2e08-4f9d-acae-8d778bd2977c",
   "metadata": {},
   "outputs": [],
   "source": [
    "# Appding more rows of data\n",
    "\n",
    "with open(\"AmazonWebScaperDataset.csv\", \"a+\", newline = \"\", encoding = \"UTF8\") as f:\n",
    "    writer = csv.writer(f)\n",
    "    writer.writerow(data)\n",
    "\n"
   ]
  },
  {
   "cell_type": "code",
   "execution_count": 57,
   "id": "04bcd620-dc78-47f7-999c-2356846ecccc",
   "metadata": {},
   "outputs": [],
   "source": [
    "# Wrapping the whole code into a function\n",
    "def check_price():\n",
    "    URL = 'https://www.amazon.com/Data-MIS-Systems-Business-Analyst/dp/B0DKNCC7YQ/ref=sr_1_6?crid=1QEILCP0NKV42&dib=eyJ2IjoiMSJ9.xXYwngSGLSf5iP-gwAbl3ieSkEPabCwEYK_VdkyN1ctF_WjMTQy_iyGXhGhRENXeL0bbRkJ5joiDluqOTkvR7eLcf1Djz2FOK9TkPjiUn-mEeUxGfMd2F6aQ_schbbbTW-nVtzJAHzO2x4P4DxvtTkqGkbsg1Xr33XaxW3EouQqOBWxAJ-6uiqtuj8P74g9XvZO8-eQLYfOlx7Vf6LX_xHUuGzyGdZ_aSiEvcLs_XfA.4Mr8O5h5eGWx_ww5ASK7GL8V71W1kXvTcN9AzRjHDRQ&dib_tag=se&keywords=funny+data+systems+business+analyst&qid=1731445048&sprefix=funny+data+systems+business+analyst%2Caps%2C465&sr=8-6'\n",
    "\n",
    "    headers = {\"User-Agent\": \"Mozilla/5.0 (Windows NT 10.0; Win64; x64) AppleWebKit/537.36 (KHTML, like Gecko) Chrome/129.0.0.0 Safari/537.36\",  \"Accept-Encoding\":\"gzip, deflate\", \"Accept\":\"text/html,application/xhtml+xml,application/xml;q=0.9,*/*;q=0.8\", \"DNT\":\"1\",\"Connection\":\"close\", \"Upgrade-Insecure-Requests\":\"1\"}\n",
    "    \n",
    "    page = requests.get(URL, headers = headers)\n",
    "    \n",
    "    soup1 = BeautifulSoup(page.content, \"html.parser\")\n",
    "    \n",
    "    soup2 = BeautifulSoup(soup1.prettify(), \"html.parser\")\n",
    "    \n",
    "    title = soup2.find(id = \"productTitle\").get_text()\n",
    "    \n",
    "    price = soup2.find('span', class_='aok-offscreen').get_text()\n",
    "    \n",
    "    title = title.strip()\n",
    "    price = price.strip()[1:]\n",
    "\n",
    "    import datetime\n",
    "\n",
    "    today = datetime.date.today()\n",
    "\n",
    "\n",
    "    import csv\n",
    "\n",
    "    header = [\"Title\", \"Price\", \"Date\"]\n",
    "    data = [title, price, today]\n",
    "    \n",
    "    with open(\"AmazonWebScaperDataset.csv\", \"a+\", newline = \"\", encoding = \"UTF8\") as f:\n",
    "        writer = csv.writer(f)\n",
    "        writer.writerow(data)\n",
    "        "
   ]
  },
  {
   "cell_type": "code",
   "execution_count": 53,
   "id": "668beaed-4d3d-4db2-8482-90ad587c1142",
   "metadata": {},
   "outputs": [
    {
     "ename": "KeyboardInterrupt",
     "evalue": "",
     "output_type": "error",
     "traceback": [
      "\u001b[1;31m---------------------------------------------------------------------------\u001b[0m",
      "\u001b[1;31mKeyboardInterrupt\u001b[0m                         Traceback (most recent call last)",
      "Cell \u001b[1;32mIn[53], line 3\u001b[0m\n\u001b[0;32m      1\u001b[0m \u001b[38;5;28;01mwhile\u001b[39;00m(\u001b[38;5;28;01mTrue\u001b[39;00m):\n\u001b[0;32m      2\u001b[0m     check_price()\n\u001b[1;32m----> 3\u001b[0m     time\u001b[38;5;241m.\u001b[39msleep(\u001b[38;5;241m5\u001b[39m)\n",
      "\u001b[1;31mKeyboardInterrupt\u001b[0m: "
     ]
    }
   ],
   "source": [
    "# Using time lib to occasionally check the price change for the product\n",
    "while(True):\n",
    "    check_price()\n",
    "    time.sleep(5)"
   ]
  },
  {
   "cell_type": "code",
   "execution_count": 55,
   "id": "de50de7b-81e4-4839-a505-8d7e17807e1b",
   "metadata": {},
   "outputs": [
    {
     "data": {
      "text/html": [
       "<div>\n",
       "<style scoped>\n",
       "    .dataframe tbody tr th:only-of-type {\n",
       "        vertical-align: middle;\n",
       "    }\n",
       "\n",
       "    .dataframe tbody tr th {\n",
       "        vertical-align: top;\n",
       "    }\n",
       "\n",
       "    .dataframe thead th {\n",
       "        text-align: right;\n",
       "    }\n",
       "</style>\n",
       "<table border=\"1\" class=\"dataframe\">\n",
       "  <thead>\n",
       "    <tr style=\"text-align: right;\">\n",
       "      <th></th>\n",
       "      <th>Title</th>\n",
       "      <th>Price</th>\n",
       "      <th>Date</th>\n",
       "    </tr>\n",
       "  </thead>\n",
       "  <tbody>\n",
       "    <tr>\n",
       "      <th>0</th>\n",
       "      <td>Data Minded, Funny MIS Data Systems Business A...</td>\n",
       "      <td>14.98</td>\n",
       "      <td>2024-11-17</td>\n",
       "    </tr>\n",
       "    <tr>\n",
       "      <th>1</th>\n",
       "      <td>Data Minded, Funny MIS Data Systems Business A...</td>\n",
       "      <td>14.98</td>\n",
       "      <td>2024-11-17</td>\n",
       "    </tr>\n",
       "    <tr>\n",
       "      <th>2</th>\n",
       "      <td>Data Minded, Funny MIS Data Systems Business A...</td>\n",
       "      <td>14.98</td>\n",
       "      <td>2024-11-17</td>\n",
       "    </tr>\n",
       "    <tr>\n",
       "      <th>3</th>\n",
       "      <td>Data Minded, Funny MIS Data Systems Business A...</td>\n",
       "      <td>14.98</td>\n",
       "      <td>2024-11-17</td>\n",
       "    </tr>\n",
       "    <tr>\n",
       "      <th>4</th>\n",
       "      <td>Data Minded, Funny MIS Data Systems Business A...</td>\n",
       "      <td>14.98</td>\n",
       "      <td>2024-11-17</td>\n",
       "    </tr>\n",
       "    <tr>\n",
       "      <th>5</th>\n",
       "      <td>Data Minded, Funny MIS Data Systems Business A...</td>\n",
       "      <td>14.98</td>\n",
       "      <td>2024-11-17</td>\n",
       "    </tr>\n",
       "    <tr>\n",
       "      <th>6</th>\n",
       "      <td>Data Minded, Funny MIS Data Systems Business A...</td>\n",
       "      <td>14.98</td>\n",
       "      <td>2024-11-17</td>\n",
       "    </tr>\n",
       "    <tr>\n",
       "      <th>7</th>\n",
       "      <td>Data Minded, Funny MIS Data Systems Business A...</td>\n",
       "      <td>14.98</td>\n",
       "      <td>2024-11-17</td>\n",
       "    </tr>\n",
       "  </tbody>\n",
       "</table>\n",
       "</div>"
      ],
      "text/plain": [
       "                                               Title  Price        Date\n",
       "0  Data Minded, Funny MIS Data Systems Business A...  14.98  2024-11-17\n",
       "1  Data Minded, Funny MIS Data Systems Business A...  14.98  2024-11-17\n",
       "2  Data Minded, Funny MIS Data Systems Business A...  14.98  2024-11-17\n",
       "3  Data Minded, Funny MIS Data Systems Business A...  14.98  2024-11-17\n",
       "4  Data Minded, Funny MIS Data Systems Business A...  14.98  2024-11-17\n",
       "5  Data Minded, Funny MIS Data Systems Business A...  14.98  2024-11-17\n",
       "6  Data Minded, Funny MIS Data Systems Business A...  14.98  2024-11-17\n",
       "7  Data Minded, Funny MIS Data Systems Business A...  14.98  2024-11-17"
      ]
     },
     "execution_count": 55,
     "metadata": {},
     "output_type": "execute_result"
    }
   ],
   "source": [
    "import pandas as pd\n",
    "\n",
    "df = pd.read_csv(r\"C:\\Users\\Misha\\Documents\\5. Python\\AmazonWebScaperDataset.csv\")\n",
    "\n",
    "df"
   ]
  }
 ],
 "metadata": {
  "kernelspec": {
   "display_name": "Python 3 (ipykernel)",
   "language": "python",
   "name": "python3"
  },
  "language_info": {
   "codemirror_mode": {
    "name": "ipython",
    "version": 3
   },
   "file_extension": ".py",
   "mimetype": "text/x-python",
   "name": "python",
   "nbconvert_exporter": "python",
   "pygments_lexer": "ipython3",
   "version": "3.12.7"
  }
 },
 "nbformat": 4,
 "nbformat_minor": 5
}
